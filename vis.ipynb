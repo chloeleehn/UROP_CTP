{
 "cells": [
  {
   "cell_type": "code",
   "execution_count": null,
   "metadata": {},
   "outputs": [],
   "source": [
    "import matplotlib.pyplot as plt"
   ]
  },
  {
   "cell_type": "code",
   "execution_count": null,
   "metadata": {},
   "outputs": [],
   "source": [
    "x1 = [2000, 4000, 6000, 80000]\n",
    "y1 = [0.175, 0.228, 0.304, 0.365]\n",
    "\n",
    "x2 = [2000, 4000, 6000, 80000, 10000]\n",
    "y2 = [0.346, 0.365, 0.360, 0.345, 0.340]\n",
    "\n",
    "x2 = [2000, 4000, 6000]\n",
    "y2 = [0.065, 0.536, 0.131]\n",
    "\n",
    "fig, ax = plt.subplots()\n",
    "ax.plot(x1, y1, label='lr = 1e-3')\n",
    "ax.plot(x2, y2, label='lr=3e-4')\n",
    "ax.plot(x2, y2, label='full res')\n",
    "ax.set_xlabel('iteration')\n",
    "ax.set_ylabel('ssim score')\n",
    "ax.set_title('seg')\n",
    "ax.legend()\n",
    "plt.show()"
   ]
  },
  {
   "cell_type": "code",
   "execution_count": null,
   "metadata": {},
   "outputs": [],
   "source": [
    "x1 = [2000, 4000, 6000, 80000]\n",
    "y1 = [0.188, 0.234, 0.304, 0.365]\n",
    "\n",
    "x2 = [2000, 4000, 6000, 80000, 10000]\n",
    "y2 = [0.364, 0.368, 0.360, 0.345, 0.340]\n",
    "\n",
    "x2 = [2000, 4000, 6000, 80000, 10000]\n",
    "y2 = [0.141, 0.561, 0.155, ]\n",
    "\n",
    "fig, ax = plt.subplots()\n",
    "ax.plot(x1, y1, label='lr = 1e-3')\n",
    "ax.plot(x2, y2, label='lr=3e-4')\n",
    "ax.set_xlabel('iteration')\n",
    "ax.set_ylabel('ssim score')\n",
    "ax.set_title('seg')\n",
    "ax.legend()\n",
    "plt.show()"
   ]
  }
 ],
 "metadata": {
  "language_info": {
   "name": "python"
  },
  "orig_nbformat": 4
 },
 "nbformat": 4,
 "nbformat_minor": 2
}
